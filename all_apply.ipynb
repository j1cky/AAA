{
 "cells": [
  {
   "cell_type": "code",
   "execution_count": 5,
   "metadata": {},
   "outputs": [],
   "source": [
    "from Functions.sorting_functions import *\n",
    "import csv\n",
    "from pathlib import Path"
   ]
  },
  {
   "cell_type": "code",
   "execution_count": 6,
   "metadata": {},
   "outputs": [
    {
     "name": "stdout",
     "output_type": "stream",
     "text": [
      "Retrieved links from CSV:\n"
     ]
    },
    {
     "data": {
      "text/plain": [
       "['https://www.apec.fr/candidat/recherche-emploi.html/emploi/detail-offre/175147280W?typesConvention=143684&typesConvention=143685&typesConvention=143686&typesConvention=143687&typesConvention=143706&motsCles=data%20scientist&niveauxExperience=101881&page=0&selectedIndex=0',\n",
       " 'https://www.apec.fr/candidat/recherche-emploi.html/emploi/detail-offre/175193605W?typesConvention=143684&typesConvention=143685&typesConvention=143686&typesConvention=143687&typesConvention=143706&motsCles=data%20scientist&niveauxExperience=101881&page=0&selectedIndex=1',\n",
       " 'https://www.apec.fr/candidat/recherche-emploi.html/emploi/detail-offre/175171031W?typesConvention=143684&typesConvention=143685&typesConvention=143686&typesConvention=143687&typesConvention=143706&motsCles=data%20scientist&niveauxExperience=101881&page=0&selectedIndex=2',\n",
       " 'https://www.apec.fr/candidat/recherche-emploi.html/emploi/detail-offre/174685644W?typesConvention=143684&typesConvention=143685&typesConvention=143686&typesConvention=143687&typesConvention=143706&motsCles=data%20scientist&niveauxExperience=101881&page=0&selectedIndex=3',\n",
       " 'https://www.apec.fr/candidat/recherche-emploi.html/emploi/detail-offre/175170888W?typesConvention=143684&typesConvention=143685&typesConvention=143686&typesConvention=143687&typesConvention=143706&motsCles=data%20scientist&niveauxExperience=101881&page=0&selectedIndex=4']"
      ]
     },
     "execution_count": 6,
     "metadata": {},
     "output_type": "execute_result"
    }
   ],
   "source": [
    "current_working_directory = Path.cwd()\n",
    "directory = \"JobLinks\"\n",
    "input_file = \"Data_Scientist_job_links.csv\"\n",
    "output_path = current_working_directory / directory / input_file\n",
    "\n",
    "\n",
    "links_list = []\n",
    "\n",
    "with open(str(output_path), mode=\"r\", encoding=\"utf-8\") as file:\n",
    "    reader = csv.reader(file)\n",
    "    next(reader, None)  # Skip the header row if present\n",
    "    \n",
    "    # Append each link to the list\n",
    "    for row in reader:\n",
    "        if row:  # Check if row is not empty\n",
    "            links_list.append(row[0])  # Access the first column (link)\n",
    "\n",
    "print(\"Retrieved links from CSV:\")\n",
    "links_list[:5]"
   ]
  },
  {
   "cell_type": "code",
   "execution_count": 7,
   "metadata": {},
   "outputs": [],
   "source": [
    "login_file_path = \"~/Documents/GitHub/login.txt\"\n",
    "usr, password = read_login_credentials(login_file_path)\n",
    "cv_path = '/home/ocr8n/Documents/CV_Aziz_ISC.pdf'\n",
    "message = ''"
   ]
  },
  {
   "cell_type": "code",
   "execution_count": 8,
   "metadata": {},
   "outputs": [
    {
     "name": "stdout",
     "output_type": "stream",
     "text": [
      "Connected\n",
      "Error selecting 'Apply with CV' and 'Import a CV': Message: \n",
      "Stacktrace:\n",
      "#0 0x55e71a6304ca <unknown>\n",
      "#1 0x55e71a143620 <unknown>\n",
      "#2 0x55e71a192306 <unknown>\n",
      "#3 0x55e71a1925a1 <unknown>\n",
      "#4 0x55e71a1d7a04 <unknown>\n",
      "#5 0x55e71a1b639d <unknown>\n",
      "#6 0x55e71a1d4de0 <unknown>\n",
      "#7 0x55e71a1b6113 <unknown>\n",
      "#8 0x55e71a184be0 <unknown>\n",
      "#9 0x55e71a185bbe <unknown>\n",
      "#10 0x55e71a5fce4b <unknown>\n",
      "#11 0x55e71a600de2 <unknown>\n",
      "#12 0x55e71a5e9d2c <unknown>\n",
      "#13 0x55e71a601957 <unknown>\n",
      "#14 0x55e71a5cf4bf <unknown>\n",
      "#15 0x55e71a61f348 <unknown>\n",
      "#16 0x55e71a61f510 <unknown>\n",
      "#17 0x55e71a62f346 <unknown>\n",
      "#18 0x7c6178c9ca94 <unknown>\n",
      "#19 0x7c6178d29c3c <unknown>\n",
      "\n"
     ]
    },
    {
     "ename": "WebDriverException",
     "evalue": "Message: disconnected: not connected to DevTools\n  (failed to check if window was closed: disconnected: not connected to DevTools)\n  (Session info: chrome=131.0.6778.69)\nStacktrace:\n#0 0x55e71a6304ca <unknown>\n#1 0x55e71a143620 <unknown>\n#2 0x55e71a12a385 <unknown>\n#3 0x55e71a12a263 <unknown>\n#4 0x55e71a145942 <unknown>\n#5 0x55e71a1d47c6 <unknown>\n#6 0x55e71a1b6113 <unknown>\n#7 0x55e71a184be0 <unknown>\n#8 0x55e71a185bbe <unknown>\n#9 0x55e71a5fce4b <unknown>\n#10 0x55e71a600de2 <unknown>\n#11 0x55e71a5e9d2c <unknown>\n#12 0x55e71a601957 <unknown>\n#13 0x55e71a5cf4bf <unknown>\n#14 0x55e71a61f348 <unknown>\n#15 0x55e71a61f510 <unknown>\n#16 0x55e71a62f346 <unknown>\n#17 0x7c6178c9ca94 <unknown>\n#18 0x7c6178d29c3c <unknown>\n",
     "output_type": "error",
     "traceback": [
      "\u001b[0;31m---------------------------------------------------------------------------\u001b[0m",
      "\u001b[0;31mWebDriverException\u001b[0m                        Traceback (most recent call last)",
      "Cell \u001b[0;32mIn[8], line 2\u001b[0m\n\u001b[1;32m      1\u001b[0m \u001b[38;5;28;01mfor\u001b[39;00m link \u001b[38;5;129;01min\u001b[39;00m links_list:\n\u001b[0;32m----> 2\u001b[0m     \u001b[43moffer_applier\u001b[49m\u001b[43m(\u001b[49m\u001b[43mlink\u001b[49m\u001b[43m,\u001b[49m\u001b[43musr\u001b[49m\u001b[43m,\u001b[49m\u001b[43m \u001b[49m\u001b[43mpassword\u001b[49m\u001b[43m,\u001b[49m\u001b[43mcv_path\u001b[49m\u001b[43m,\u001b[49m\u001b[43mmessage\u001b[49m\u001b[43m)\u001b[49m\n",
      "File \u001b[0;32m~/Documents/GitHub/AAE/Functions/sorting_functions.py:47\u001b[0m, in \u001b[0;36moffer_applier\u001b[0;34m(test_url, usr, password, cv_path, message)\u001b[0m\n\u001b[1;32m     45\u001b[0m         \u001b[38;5;28;01mif\u001b[39;00m connexion :\n\u001b[1;32m     46\u001b[0m             \u001b[38;5;28mprint\u001b[39m(\u001b[38;5;124m'\u001b[39m\u001b[38;5;124mConnected\u001b[39m\u001b[38;5;124m'\u001b[39m)\n\u001b[0;32m---> 47\u001b[0m             \u001b[43mfill_and_submit\u001b[49m\u001b[43m(\u001b[49m\u001b[43mdriver\u001b[49m\u001b[43m,\u001b[49m\u001b[43m \u001b[49m\u001b[43mcv_path\u001b[49m\u001b[43m,\u001b[49m\u001b[43m \u001b[49m\u001b[43mmessage\u001b[49m\u001b[43m)\u001b[49m\n\u001b[1;32m     49\u001b[0m \u001b[38;5;28;01melse\u001b[39;00m:\n\u001b[1;32m     50\u001b[0m     fill_and_submit(driver, cv_path, message)\n",
      "File \u001b[0;32m~/Documents/GitHub/AAE/Functions/sorting_functions.py:97\u001b[0m, in \u001b[0;36mfill_and_submit\u001b[0;34m(driver, cv_path, message)\u001b[0m\n\u001b[1;32m     94\u001b[0m select_importer_cv(driver)\n\u001b[1;32m     96\u001b[0m \u001b[38;5;66;03m# Upload CV file\u001b[39;00m\n\u001b[0;32m---> 97\u001b[0m cv_upload \u001b[38;5;241m=\u001b[39m \u001b[43mwait\u001b[49m\u001b[38;5;241;43m.\u001b[39;49m\u001b[43muntil\u001b[49m\u001b[43m(\u001b[49m\u001b[43mEC\u001b[49m\u001b[38;5;241;43m.\u001b[39;49m\u001b[43mpresence_of_element_located\u001b[49m\u001b[43m(\u001b[49m\u001b[43m(\u001b[49m\u001b[43mBy\u001b[49m\u001b[38;5;241;43m.\u001b[39;49m\u001b[43mCSS_SELECTOR\u001b[49m\u001b[43m,\u001b[49m\u001b[43m \u001b[49m\u001b[38;5;124;43m\"\u001b[39;49m\u001b[38;5;124;43minput[type=\u001b[39;49m\u001b[38;5;124;43m'\u001b[39;49m\u001b[38;5;124;43mfile\u001b[39;49m\u001b[38;5;124;43m'\u001b[39;49m\u001b[38;5;124;43m]\u001b[39;49m\u001b[38;5;124;43m\"\u001b[39;49m\u001b[43m)\u001b[49m\u001b[43m)\u001b[49m\u001b[43m)\u001b[49m\n\u001b[1;32m     98\u001b[0m cv_upload\u001b[38;5;241m.\u001b[39msend_keys(cv_path)\n\u001b[1;32m    101\u001b[0m \u001b[38;5;66;03m# Uncheck Save CV if checked\u001b[39;00m\n",
      "File \u001b[0;32m~/Documents/GitHub/AAE/.venv/lib/python3.12/site-packages/selenium/webdriver/support/wait.py:96\u001b[0m, in \u001b[0;36mWebDriverWait.until\u001b[0;34m(self, method, message)\u001b[0m\n\u001b[1;32m     94\u001b[0m \u001b[38;5;28;01mwhile\u001b[39;00m \u001b[38;5;28;01mTrue\u001b[39;00m:\n\u001b[1;32m     95\u001b[0m     \u001b[38;5;28;01mtry\u001b[39;00m:\n\u001b[0;32m---> 96\u001b[0m         value \u001b[38;5;241m=\u001b[39m \u001b[43mmethod\u001b[49m\u001b[43m(\u001b[49m\u001b[38;5;28;43mself\u001b[39;49m\u001b[38;5;241;43m.\u001b[39;49m\u001b[43m_driver\u001b[49m\u001b[43m)\u001b[49m\n\u001b[1;32m     97\u001b[0m         \u001b[38;5;28;01mif\u001b[39;00m value:\n\u001b[1;32m     98\u001b[0m             \u001b[38;5;28;01mreturn\u001b[39;00m value\n",
      "File \u001b[0;32m~/Documents/GitHub/AAE/.venv/lib/python3.12/site-packages/selenium/webdriver/support/expected_conditions.py:84\u001b[0m, in \u001b[0;36mpresence_of_element_located.<locals>._predicate\u001b[0;34m(driver)\u001b[0m\n\u001b[1;32m     83\u001b[0m \u001b[38;5;28;01mdef\u001b[39;00m \u001b[38;5;21m_predicate\u001b[39m(driver: WebDriverOrWebElement):\n\u001b[0;32m---> 84\u001b[0m     \u001b[38;5;28;01mreturn\u001b[39;00m \u001b[43mdriver\u001b[49m\u001b[38;5;241;43m.\u001b[39;49m\u001b[43mfind_element\u001b[49m\u001b[43m(\u001b[49m\u001b[38;5;241;43m*\u001b[39;49m\u001b[43mlocator\u001b[49m\u001b[43m)\u001b[49m\n",
      "File \u001b[0;32m~/Documents/GitHub/AAE/.venv/lib/python3.12/site-packages/selenium/webdriver/remote/webdriver.py:766\u001b[0m, in \u001b[0;36mWebDriver.find_element\u001b[0;34m(self, by, value)\u001b[0m\n\u001b[1;32m    763\u001b[0m         \u001b[38;5;28;01mraise\u001b[39;00m NoSuchElementException(\u001b[38;5;124mf\u001b[39m\u001b[38;5;124m\"\u001b[39m\u001b[38;5;124mCannot locate relative element with: \u001b[39m\u001b[38;5;132;01m{\u001b[39;00mby\u001b[38;5;241m.\u001b[39mroot\u001b[38;5;132;01m}\u001b[39;00m\u001b[38;5;124m\"\u001b[39m)\n\u001b[1;32m    764\u001b[0m     \u001b[38;5;28;01mreturn\u001b[39;00m elements[\u001b[38;5;241m0\u001b[39m]\n\u001b[0;32m--> 766\u001b[0m \u001b[38;5;28;01mreturn\u001b[39;00m \u001b[38;5;28;43mself\u001b[39;49m\u001b[38;5;241;43m.\u001b[39;49m\u001b[43mexecute\u001b[49m\u001b[43m(\u001b[49m\u001b[43mCommand\u001b[49m\u001b[38;5;241;43m.\u001b[39;49m\u001b[43mFIND_ELEMENT\u001b[49m\u001b[43m,\u001b[49m\u001b[43m \u001b[49m\u001b[43m{\u001b[49m\u001b[38;5;124;43m\"\u001b[39;49m\u001b[38;5;124;43musing\u001b[39;49m\u001b[38;5;124;43m\"\u001b[39;49m\u001b[43m:\u001b[49m\u001b[43m \u001b[49m\u001b[43mby\u001b[49m\u001b[43m,\u001b[49m\u001b[43m \u001b[49m\u001b[38;5;124;43m\"\u001b[39;49m\u001b[38;5;124;43mvalue\u001b[39;49m\u001b[38;5;124;43m\"\u001b[39;49m\u001b[43m:\u001b[49m\u001b[43m \u001b[49m\u001b[43mvalue\u001b[49m\u001b[43m}\u001b[49m\u001b[43m)\u001b[49m[\u001b[38;5;124m\"\u001b[39m\u001b[38;5;124mvalue\u001b[39m\u001b[38;5;124m\"\u001b[39m]\n",
      "File \u001b[0;32m~/Documents/GitHub/AAE/.venv/lib/python3.12/site-packages/selenium/webdriver/remote/webdriver.py:380\u001b[0m, in \u001b[0;36mWebDriver.execute\u001b[0;34m(self, driver_command, params)\u001b[0m\n\u001b[1;32m    378\u001b[0m response \u001b[38;5;241m=\u001b[39m \u001b[38;5;28mself\u001b[39m\u001b[38;5;241m.\u001b[39mcommand_executor\u001b[38;5;241m.\u001b[39mexecute(driver_command, params)\n\u001b[1;32m    379\u001b[0m \u001b[38;5;28;01mif\u001b[39;00m response:\n\u001b[0;32m--> 380\u001b[0m     \u001b[38;5;28;43mself\u001b[39;49m\u001b[38;5;241;43m.\u001b[39;49m\u001b[43merror_handler\u001b[49m\u001b[38;5;241;43m.\u001b[39;49m\u001b[43mcheck_response\u001b[49m\u001b[43m(\u001b[49m\u001b[43mresponse\u001b[49m\u001b[43m)\u001b[49m\n\u001b[1;32m    381\u001b[0m     response[\u001b[38;5;124m\"\u001b[39m\u001b[38;5;124mvalue\u001b[39m\u001b[38;5;124m\"\u001b[39m] \u001b[38;5;241m=\u001b[39m \u001b[38;5;28mself\u001b[39m\u001b[38;5;241m.\u001b[39m_unwrap_value(response\u001b[38;5;241m.\u001b[39mget(\u001b[38;5;124m\"\u001b[39m\u001b[38;5;124mvalue\u001b[39m\u001b[38;5;124m\"\u001b[39m, \u001b[38;5;28;01mNone\u001b[39;00m))\n\u001b[1;32m    382\u001b[0m     \u001b[38;5;28;01mreturn\u001b[39;00m response\n",
      "File \u001b[0;32m~/Documents/GitHub/AAE/.venv/lib/python3.12/site-packages/selenium/webdriver/remote/errorhandler.py:229\u001b[0m, in \u001b[0;36mErrorHandler.check_response\u001b[0;34m(self, response)\u001b[0m\n\u001b[1;32m    227\u001b[0m         alert_text \u001b[38;5;241m=\u001b[39m value[\u001b[38;5;124m\"\u001b[39m\u001b[38;5;124malert\u001b[39m\u001b[38;5;124m\"\u001b[39m]\u001b[38;5;241m.\u001b[39mget(\u001b[38;5;124m\"\u001b[39m\u001b[38;5;124mtext\u001b[39m\u001b[38;5;124m\"\u001b[39m)\n\u001b[1;32m    228\u001b[0m     \u001b[38;5;28;01mraise\u001b[39;00m exception_class(message, screen, stacktrace, alert_text)  \u001b[38;5;66;03m# type: ignore[call-arg]  # mypy is not smart enough here\u001b[39;00m\n\u001b[0;32m--> 229\u001b[0m \u001b[38;5;28;01mraise\u001b[39;00m exception_class(message, screen, stacktrace)\n",
      "\u001b[0;31mWebDriverException\u001b[0m: Message: disconnected: not connected to DevTools\n  (failed to check if window was closed: disconnected: not connected to DevTools)\n  (Session info: chrome=131.0.6778.69)\nStacktrace:\n#0 0x55e71a6304ca <unknown>\n#1 0x55e71a143620 <unknown>\n#2 0x55e71a12a385 <unknown>\n#3 0x55e71a12a263 <unknown>\n#4 0x55e71a145942 <unknown>\n#5 0x55e71a1d47c6 <unknown>\n#6 0x55e71a1b6113 <unknown>\n#7 0x55e71a184be0 <unknown>\n#8 0x55e71a185bbe <unknown>\n#9 0x55e71a5fce4b <unknown>\n#10 0x55e71a600de2 <unknown>\n#11 0x55e71a5e9d2c <unknown>\n#12 0x55e71a601957 <unknown>\n#13 0x55e71a5cf4bf <unknown>\n#14 0x55e71a61f348 <unknown>\n#15 0x55e71a61f510 <unknown>\n#16 0x55e71a62f346 <unknown>\n#17 0x7c6178c9ca94 <unknown>\n#18 0x7c6178d29c3c <unknown>\n"
     ]
    }
   ],
   "source": [
    "for link in links_list:\n",
    "    offer_applier(link,usr, password,cv_path,message)"
   ]
  }
 ],
 "metadata": {
  "kernelspec": {
   "display_name": ".venv",
   "language": "python",
   "name": "python3"
  },
  "language_info": {
   "codemirror_mode": {
    "name": "ipython",
    "version": 3
   },
   "file_extension": ".py",
   "mimetype": "text/x-python",
   "name": "python",
   "nbconvert_exporter": "python",
   "pygments_lexer": "ipython3",
   "version": "3.12.3"
  }
 },
 "nbformat": 4,
 "nbformat_minor": 2
}
