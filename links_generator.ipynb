{
 "cells": [
  {
   "cell_type": "code",
   "execution_count": 1,
   "metadata": {},
   "outputs": [],
   "source": [
    "from Functions.sorting_functions import get_job_links\n",
    "import csv\n",
    "from pathlib import Path"
   ]
  },
  {
   "cell_type": "markdown",
   "metadata": {},
   "source": [
    "With APEC, they give 20 offer per page, so we increment the pages to get all the pages"
   ]
  },
  {
   "cell_type": "code",
   "execution_count": null,
   "metadata": {},
   "outputs": [],
   "source": [
    "raw_url = 'https://www.apec.fr/candidat/recherche-emploi.html/emploi?typesConvention=143684&typesConvention=143685&typesConvention=143686&typesConvention=143687&typesConvention=143706&motsCles=data%20scientist&niveauxExperience=101881&page='\n",
    "\n",
    "\n",
    "page_max = 7\n",
    "\n",
    "app_links = [get_job_links(raw_url+str(page_n)) for page_n in range(page_max)]"
   ]
  },
  {
   "cell_type": "code",
   "execution_count": 3,
   "metadata": {},
   "outputs": [],
   "source": [
    "flattened_list = [item for sublist in app_links for item in sublist]"
   ]
  },
  {
   "cell_type": "markdown",
   "metadata": {},
   "source": [
    "Exporting into a csv file to not repeat the process"
   ]
  },
  {
   "cell_type": "code",
   "execution_count": 4,
   "metadata": {},
   "outputs": [
    {
     "name": "stdout",
     "output_type": "stream",
     "text": [
      "Links have been written to Data_Scientist_job_links.csv\n"
     ]
    }
   ],
   "source": [
    "current_working_directory = Path.cwd()\n",
    "directory = \"JobLinks\"\n",
    "output_file = \"Data_Scientist_job_links.csv\"\n",
    "\n",
    "# Use Path to join the components\n",
    "output_path = current_working_directory / directory / output_file\n",
    "\n",
    "output_path.parent.mkdir(parents=True, exist_ok=True)\n",
    "\n",
    "with open(str(output_path) , mode=\"w\", newline=\"\", encoding=\"utf-8\") as file:\n",
    "    writer = csv.writer(file)\n",
    "    \n",
    "    writer.writerow([\"Data Scientist Job Links\"])\n",
    "    \n",
    "    # Write each link as a new row\n",
    "    for link in flattened_list:\n",
    "        writer.writerow([link])\n",
    "\n",
    "print(f\"Links have been written to {output_file}\")"
   ]
  }
 ],
 "metadata": {
  "kernelspec": {
   "display_name": ".venv",
   "language": "python",
   "name": "python3"
  },
  "language_info": {
   "codemirror_mode": {
    "name": "ipython",
    "version": 3
   },
   "file_extension": ".py",
   "mimetype": "text/x-python",
   "name": "python",
   "nbconvert_exporter": "python",
   "pygments_lexer": "ipython3",
   "version": "3.12.3"
  }
 },
 "nbformat": 4,
 "nbformat_minor": 2
}
