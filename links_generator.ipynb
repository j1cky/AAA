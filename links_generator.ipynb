{
 "cells": [
  {
   "cell_type": "code",
   "execution_count": 3,
   "metadata": {},
   "outputs": [],
   "source": [
    "from Functions.alternance_functions import get_job_links, easy_apply, check_easy_apply\n"
   ]
  },
  {
   "cell_type": "code",
   "execution_count": 4,
   "metadata": {},
   "outputs": [],
   "source": [
    "url = 'https://labonnealternance.apprentissage.beta.gouv.fr/recherche-apprentissage?display=list&job_name=Analyse%20de%20donn%C3%A9es%2C%20data&romes=M1805,M1403,M1806,M1802,M1809&diploma=7%20(Master,%20titre%20ing%C3%A9nieur...)&radius=30&lat=48.859&lon=2.347&zipcode=75001&insee=75056&address=Paris&s=1731331328834'\n",
    "applications_links = get_job_links(url) "
   ]
  },
  {
   "cell_type": "code",
   "execution_count": 5,
   "metadata": {},
   "outputs": [
    {
     "data": {
      "text/plain": [
       "['https://labonnealternance.apprentissage.beta.gouv.fr/recherche-apprentissage?display=list&page=fiche&type=matcha&itemId=6702bfe0136e29546deb59c5&job_name=Analyse%20de%20donn%C3%A9es%2C%20data&romes=M1805,M1403,M1806,M1802,M1809&diploma=7%20(Master,%20titre%20ing%C3%A9nieur...)&radius=30&lat=48.859&lon=2.347&zipcode=75001&insee=75056&address=Paris',\n",
       " 'https://labonnealternance.apprentissage.beta.gouv.fr/recherche-apprentissage?display=list&page=fiche&type=matcha&itemId=6702c03bd100926e6b381b70&job_name=Analyse%20de%20donn%C3%A9es%2C%20data&romes=M1805,M1403,M1806,M1802,M1809&diploma=7%20(Master,%20titre%20ing%C3%A9nieur...)&radius=30&lat=48.859&lon=2.347&zipcode=75001&insee=75056&address=Paris',\n",
       " 'https://labonnealternance.apprentissage.beta.gouv.fr/recherche-apprentissage?display=list&page=fiche&type=matcha&itemId=6702c094d100926e6b381b75&job_name=Analyse%20de%20donn%C3%A9es%2C%20data&romes=M1805,M1403,M1806,M1802,M1809&diploma=7%20(Master,%20titre%20ing%C3%A9nieur...)&radius=30&lat=48.859&lon=2.347&zipcode=75001&insee=75056&address=Paris',\n",
       " 'https://labonnealternance.apprentissage.beta.gouv.fr/recherche-apprentissage?display=list&page=fiche&type=matcha&itemId=672ccba5adc323f9990421bd&job_name=Analyse%20de%20donn%C3%A9es%2C%20data&romes=M1805,M1403,M1806,M1802,M1809&diploma=7%20(Master,%20titre%20ing%C3%A9nieur...)&radius=30&lat=48.859&lon=2.347&zipcode=75001&insee=75056&address=Paris',\n",
       " 'https://labonnealternance.apprentissage.beta.gouv.fr/recherche-apprentissage?display=list&page=fiche&type=matcha&itemId=66e2a39a4861fb87917069df&job_name=Analyse%20de%20donn%C3%A9es%2C%20data&romes=M1805,M1403,M1806,M1802,M1809&diploma=7%20(Master,%20titre%20ing%C3%A9nieur...)&radius=30&lat=48.859&lon=2.347&zipcode=75001&insee=75056&address=Paris',\n",
       " 'https://labonnealternance.apprentissage.beta.gouv.fr/recherche-apprentissage?display=list&page=fiche&type=matcha&itemId=672e0a55adc323f999043527&job_name=Analyse%20de%20donn%C3%A9es%2C%20data&romes=M1805,M1403,M1806,M1802,M1809&diploma=7%20(Master,%20titre%20ing%C3%A9nieur...)&radius=30&lat=48.859&lon=2.347&zipcode=75001&insee=75056&address=Paris',\n",
       " 'https://labonnealternance.apprentissage.beta.gouv.fr/recherche-apprentissage?display=list&page=fiche&type=matcha&itemId=67312fcb279e9bfda83b4083&job_name=Analyse%20de%20donn%C3%A9es%2C%20data&romes=M1805,M1403,M1806,M1802,M1809&diploma=7%20(Master,%20titre%20ing%C3%A9nieur...)&radius=30&lat=48.859&lon=2.347&zipcode=75001&insee=75056&address=Paris',\n",
       " 'https://labonnealternance.apprentissage.beta.gouv.fr/recherche-apprentissage?display=list&page=fiche&type=peJob&itemId=183HTDF&job_name=Analyse%20de%20donn%C3%A9es%2C%20data&romes=M1805,M1403,M1806,M1802,M1809&diploma=7%20(Master,%20titre%20ing%C3%A9nieur...)&radius=30&lat=48.859&lon=2.347&zipcode=75001&insee=75056&address=Paris',\n",
       " 'https://labonnealternance.apprentissage.beta.gouv.fr/recherche-apprentissage?display=list&page=fiche&type=peJob&itemId=182VRMM&job_name=Analyse%20de%20donn%C3%A9es%2C%20data&romes=M1805,M1403,M1806,M1802,M1809&diploma=7%20(Master,%20titre%20ing%C3%A9nieur...)&radius=30&lat=48.859&lon=2.347&zipcode=75001&insee=75056&address=Paris',\n",
       " 'https://labonnealternance.apprentissage.beta.gouv.fr/recherche-apprentissage?display=list&page=fiche&type=lba&itemId=91088407100010&job_name=Analyse%20de%20donn%C3%A9es%2C%20data&romes=M1805,M1403,M1806,M1802,M1809&diploma=7%20(Master,%20titre%20ing%C3%A9nieur...)&radius=30&lat=48.859&lon=2.347&zipcode=75001&insee=75056&address=Paris']"
      ]
     },
     "execution_count": 5,
     "metadata": {},
     "output_type": "execute_result"
    }
   ],
   "source": [
    "applications_links[0:10]"
   ]
  },
  {
   "cell_type": "code",
   "execution_count": 8,
   "metadata": {},
   "outputs": [
    {
     "name": "stdout",
     "output_type": "stream",
     "text": [
      "Error during checking apply possibility: Message: session not created: Chrome failed to start: exited normally.\n",
      "  (session not created: DevToolsActivePort file doesn't exist)\n",
      "  (The process started from chrome location /opt/google/chrome/chrome is no longer running, so ChromeDriver is assuming that Chrome has crashed.)\n",
      "Stacktrace:\n",
      "#0 0x556b0269c6da <unknown>\n",
      "#1 0x556b021b0f80 <unknown>\n",
      "#2 0x556b021e6db1 <unknown>\n",
      "#3 0x556b021e26c5 <unknown>\n",
      "#4 0x556b0222dcf9 <unknown>\n",
      "#5 0x556b0222d346 <unknown>\n",
      "#6 0x556b02221953 <unknown>\n",
      "#7 0x556b021f072e <unknown>\n",
      "#8 0x556b021f179e <unknown>\n",
      "#9 0x556b02667f1b <unknown>\n",
      "#10 0x556b0266beb8 <unknown>\n",
      "#11 0x556b0265542c <unknown>\n",
      "#12 0x556b0266ca37 <unknown>\n",
      "#13 0x556b02639fef <unknown>\n",
      "#14 0x556b0268aad8 <unknown>\n",
      "#15 0x556b0268aca0 <unknown>\n",
      "#16 0x556b0269b556 <unknown>\n",
      "#17 0x7dcee969ca94 <unknown>\n",
      "#18 0x7dcee9729c3c <unknown>\n",
      "\n"
     ]
    }
   ],
   "source": [
    "name = \"Aziz\"\n",
    "surname = \"Bounouh\"\n",
    "email = \"bounouh.aziz.72@gmail.com\"\n",
    "phone = \"0\"\n",
    "\n",
    "cv_path = '/home/ocr8n/Documents/CV_DataScientest.pdf'\n",
    "\n",
    "applied = 0\n",
    "\n",
    " # for link in applications_links:\n",
    "if check_easy_apply(applications_links[0]):\n",
    "    easy_apply(applications_links[0], name, surname, email, phone, cv_path)\n",
    "    applied += 1 "
   ]
  },
  {
   "cell_type": "code",
   "execution_count": 7,
   "metadata": {},
   "outputs": [
    {
     "name": "stdout",
     "output_type": "stream",
     "text": [
      "You have applied to 0 easy apply offer!\n"
     ]
    }
   ],
   "source": [
    "print(f'You have applied to {applied} easy apply offer!')"
   ]
  },
  {
   "cell_type": "code",
   "execution_count": null,
   "metadata": {},
   "outputs": [],
   "source": []
  },
  {
   "cell_type": "code",
   "execution_count": null,
   "metadata": {},
   "outputs": [],
   "source": []
  }
 ],
 "metadata": {
  "kernelspec": {
   "display_name": ".venv",
   "language": "python",
   "name": "python3"
  },
  "language_info": {
   "codemirror_mode": {
    "name": "ipython",
    "version": 3
   },
   "file_extension": ".py",
   "mimetype": "text/x-python",
   "name": "python",
   "nbconvert_exporter": "python",
   "pygments_lexer": "ipython3",
   "version": "3.12.3"
  }
 },
 "nbformat": 4,
 "nbformat_minor": 2
}
