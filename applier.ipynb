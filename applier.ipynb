{
 "cells": [
  {
   "cell_type": "code",
   "execution_count": 1,
   "metadata": {},
   "outputs": [],
   "source": [
    "from Functions.sorting_functions import *\n",
    "import csv\n",
    "from pathlib import Path\n",
    "import time"
   ]
  },
  {
   "cell_type": "markdown",
   "metadata": {},
   "source": [
    "______________________________________________________________________________________________________________________________________"
   ]
  },
  {
   "cell_type": "markdown",
   "metadata": {},
   "source": [
    "Import the links from a csv file"
   ]
  },
  {
   "cell_type": "code",
   "execution_count": 2,
   "metadata": {},
   "outputs": [
    {
     "name": "stdout",
     "output_type": "stream",
     "text": [
      "Retrieved links from CSV:\n"
     ]
    },
    {
     "data": {
      "text/plain": [
       "['https://www.apec.fr/candidat/recherche-emploi.html/emploi/detail-offre/175147280W?typesConvention=143684&typesConvention=143685&typesConvention=143686&typesConvention=143687&typesConvention=143706&motsCles=data%20scientist&niveauxExperience=101881&page=0&selectedIndex=0',\n",
       " 'https://www.apec.fr/candidat/recherche-emploi.html/emploi/detail-offre/175193605W?typesConvention=143684&typesConvention=143685&typesConvention=143686&typesConvention=143687&typesConvention=143706&motsCles=data%20scientist&niveauxExperience=101881&page=0&selectedIndex=1',\n",
       " 'https://www.apec.fr/candidat/recherche-emploi.html/emploi/detail-offre/175171031W?typesConvention=143684&typesConvention=143685&typesConvention=143686&typesConvention=143687&typesConvention=143706&motsCles=data%20scientist&niveauxExperience=101881&page=0&selectedIndex=2',\n",
       " 'https://www.apec.fr/candidat/recherche-emploi.html/emploi/detail-offre/174685644W?typesConvention=143684&typesConvention=143685&typesConvention=143686&typesConvention=143687&typesConvention=143706&motsCles=data%20scientist&niveauxExperience=101881&page=0&selectedIndex=3',\n",
       " 'https://www.apec.fr/candidat/recherche-emploi.html/emploi/detail-offre/175170888W?typesConvention=143684&typesConvention=143685&typesConvention=143686&typesConvention=143687&typesConvention=143706&motsCles=data%20scientist&niveauxExperience=101881&page=0&selectedIndex=4']"
      ]
     },
     "execution_count": 2,
     "metadata": {},
     "output_type": "execute_result"
    }
   ],
   "source": [
    "current_working_directory = Path.cwd()\n",
    "directory = \"JobLinks\"\n",
    "input_file = \"Data_Scientist_job_links.csv\"\n",
    "output_path = current_working_directory / directory / input_file\n",
    "\n",
    "\n",
    "links_list = []\n",
    "\n",
    "with open(str(output_path), mode=\"r\", encoding=\"utf-8\") as file:\n",
    "    reader = csv.reader(file)\n",
    "    next(reader, None)  # Skip the header row if present\n",
    "    \n",
    "    # Append each link to the list\n",
    "    for row in reader:\n",
    "        if row:  # Check if row is not empty\n",
    "            links_list.append(row[0])  # Access the first column (link)\n",
    "\n",
    "print(\"Retrieved links from CSV:\")\n",
    "links_list[:5]"
   ]
  },
  {
   "cell_type": "code",
   "execution_count": 3,
   "metadata": {},
   "outputs": [
    {
     "data": {
      "text/plain": [
       "'https://www.apec.fr/candidat/recherche-emploi.html/emploi/detail-offre/174881553W?typesConvention=143684&typesConvention=143685&typesConvention=143686&typesConvention=143687&typesConvention=143706&motsCles=data%20scientist&niveauxExperience=101881&page=1&selectedIndex=3'"
      ]
     },
     "execution_count": 3,
     "metadata": {},
     "output_type": "execute_result"
    }
   ],
   "source": [
    "test_url = links_list[23]\n",
    "test_url"
   ]
  },
  {
   "cell_type": "markdown",
   "metadata": {},
   "source": [
    "______________________________________________________________________________________________________________________________________"
   ]
  },
  {
   "cell_type": "markdown",
   "metadata": {},
   "source": [
    "Load login and password"
   ]
  },
  {
   "cell_type": "code",
   "execution_count": 4,
   "metadata": {},
   "outputs": [],
   "source": [
    "login_file_path = \"~/Documents/GitHub/login.txt\"\n",
    "usr, password = read_login_credentials(login_file_path)"
   ]
  },
  {
   "cell_type": "code",
   "execution_count": 5,
   "metadata": {},
   "outputs": [],
   "source": [
    "\n",
    "cv_path = '/home/ocr8n/Documents/CV_DataScientest.pdf'\n",
    "message = ''"
   ]
  },
  {
   "cell_type": "code",
   "execution_count": 6,
   "metadata": {},
   "outputs": [
    {
     "name": "stdout",
     "output_type": "stream",
     "text": [
      "Closed cookie consent banner.\n",
      "Easy Apply button found.\n",
      "User is NOT connected (Mon espace).\n",
      "Lien du formulaire\n",
      "Email filled\n",
      "Password filled.\n",
      "Clicked the connect button.\n",
      "Connected\n",
      "Selecting importer cv :\n",
      "Checkbox 'Enregistrer le CV' était cochée, elle a été décochée.\n",
      "Application submitted successfully!\n"
     ]
    }
   ],
   "source": [
    "driver = check_easy_apply(test_url)\n",
    "\n",
    "if driver:\n",
    "    formulaire = promotion_or_formulaire(driver)\n",
    "\n",
    "    if not formulaire:\n",
    "        if connected(driver) :\n",
    "            postuler(driver)\n",
    "            fill_and_submit(driver, cv_path, message)\n",
    "        else :\n",
    "            print('Lien du formulaire')\n",
    "            connexion = apec_connect(driver,usr, password)\n",
    "            if connexion :\n",
    "                print('Connected')\n",
    "                fill_and_submit(driver, cv_path, message)\n",
    "            \n",
    "    else:\n",
    "        fill_and_submit(driver, cv_path, message)\n",
    "\n",
    "\n",
    "\n",
    "driver.quit()"
   ]
  }
 ],
 "metadata": {
  "kernelspec": {
   "display_name": ".venv",
   "language": "python",
   "name": "python3"
  },
  "language_info": {
   "codemirror_mode": {
    "name": "ipython",
    "version": 3
   },
   "file_extension": ".py",
   "mimetype": "text/x-python",
   "name": "python",
   "nbconvert_exporter": "python",
   "pygments_lexer": "ipython3",
   "version": "3.12.3"
  }
 },
 "nbformat": 4,
 "nbformat_minor": 2
}
