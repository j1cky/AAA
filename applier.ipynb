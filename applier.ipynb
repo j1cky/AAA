{
 "cells": [
  {
   "cell_type": "code",
   "execution_count": 1,
   "metadata": {},
   "outputs": [],
   "source": [
    "from Functions.sorting_functions import *\n",
    "import csv\n",
    "from pathlib import Path\n",
    "import time"
   ]
  },
  {
   "cell_type": "markdown",
   "metadata": {},
   "source": [
    "______________________________________________________________________________________________________________________________________"
   ]
  },
  {
   "cell_type": "markdown",
   "metadata": {},
   "source": [
    "Import the links from a csv file"
   ]
  },
  {
   "cell_type": "code",
   "execution_count": 2,
   "metadata": {},
   "outputs": [
    {
     "name": "stdout",
     "output_type": "stream",
     "text": [
      "Retrieved links from CSV:\n"
     ]
    },
    {
     "data": {
      "text/plain": [
       "['https://www.apec.fr/candidat/recherche-emploi.html/emploi/detail-offre/175001281W?typesConvention=143684&typesConvention=143685&typesConvention=143686&typesConvention=143687&typesConvention=143706&motsCles=data%20scientist&niveauxExperience=101881&page=0&selectedIndex=6',\n",
       " 'https://www.apec.fr/candidat/recherche-emploi.html/emploi/detail-offre/175172476W?typesConvention=143684&typesConvention=143685&typesConvention=143686&typesConvention=143687&typesConvention=143706&motsCles=data%20scientist&niveauxExperience=101881&page=0&selectedIndex=7',\n",
       " 'https://www.apec.fr/candidat/recherche-emploi.html/emploi/detail-offre/175130794W?typesConvention=143684&typesConvention=143685&typesConvention=143686&typesConvention=143687&typesConvention=143706&motsCles=data%20scientist&niveauxExperience=101881&page=0&selectedIndex=8',\n",
       " 'https://www.apec.fr/candidat/recherche-emploi.html/emploi/detail-offre/175046431W?typesConvention=143684&typesConvention=143685&typesConvention=143686&typesConvention=143687&typesConvention=143706&motsCles=data%20scientist&niveauxExperience=101881&page=0&selectedIndex=9',\n",
       " 'https://www.apec.fr/candidat/recherche-emploi.html/emploi/detail-offre/175158590W?typesConvention=143684&typesConvention=143685&typesConvention=143686&typesConvention=143687&typesConvention=143706&motsCles=data%20scientist&niveauxExperience=101881&page=0&selectedIndex=10',\n",
       " 'https://www.apec.fr/candidat/recherche-emploi.html/emploi/detail-offre/175166800W?typesConvention=143684&typesConvention=143685&typesConvention=143686&typesConvention=143687&typesConvention=143706&motsCles=data%20scientist&niveauxExperience=101881&page=0&selectedIndex=11',\n",
       " 'https://www.apec.fr/candidat/recherche-emploi.html/emploi/detail-offre/175029269W?typesConvention=143684&typesConvention=143685&typesConvention=143686&typesConvention=143687&typesConvention=143706&motsCles=data%20scientist&niveauxExperience=101881&page=0&selectedIndex=12',\n",
       " 'https://www.apec.fr/candidat/recherche-emploi.html/emploi/detail-offre/175157094W?typesConvention=143684&typesConvention=143685&typesConvention=143686&typesConvention=143687&typesConvention=143706&motsCles=data%20scientist&niveauxExperience=101881&page=0&selectedIndex=13',\n",
       " 'https://www.apec.fr/candidat/recherche-emploi.html/emploi/detail-offre/175157327W?typesConvention=143684&typesConvention=143685&typesConvention=143686&typesConvention=143687&typesConvention=143706&motsCles=data%20scientist&niveauxExperience=101881&page=0&selectedIndex=14']"
      ]
     },
     "execution_count": 2,
     "metadata": {},
     "output_type": "execute_result"
    }
   ],
   "source": [
    "current_working_directory = Path.cwd()\n",
    "directory = \"JobLinks\"\n",
    "input_file = \"Data_Scientist_job_links.csv\"\n",
    "output_path = current_working_directory / directory / input_file\n",
    "\n",
    "\n",
    "links_list = []\n",
    "\n",
    "with open(str(output_path), mode=\"r\", encoding=\"utf-8\") as file:\n",
    "    reader = csv.reader(file)\n",
    "    next(reader, None)  # Skip the header row if present\n",
    "    \n",
    "    # Append each link to the list\n",
    "    for row in reader:\n",
    "        if row:  # Check if row is not empty\n",
    "            links_list.append(row[0])  # Access the first column (link)\n",
    "\n",
    "print(\"Retrieved links from CSV:\")\n",
    "links_list[6:15]"
   ]
  },
  {
   "cell_type": "code",
   "execution_count": 11,
   "metadata": {},
   "outputs": [
    {
     "data": {
      "text/plain": [
       "'https://www.apec.fr/candidat/recherche-emploi.html/emploi/detail-offre/175130794W?typesConvention=143684&typesConvention=143685&typesConvention=143686&typesConvention=143687&typesConvention=143706&motsCles=data%20scientist&niveauxExperience=101881&page=0&selectedIndex=8'"
      ]
     },
     "execution_count": 11,
     "metadata": {},
     "output_type": "execute_result"
    }
   ],
   "source": [
    "test_url = links_list[8]\n",
    "test_url"
   ]
  },
  {
   "cell_type": "markdown",
   "metadata": {},
   "source": [
    "______________________________________________________________________________________________________________________________________"
   ]
  },
  {
   "cell_type": "markdown",
   "metadata": {},
   "source": [
    "Load login and password"
   ]
  },
  {
   "cell_type": "code",
   "execution_count": 4,
   "metadata": {},
   "outputs": [],
   "source": [
    "login_file_path = \"~/Documents/GitHub/login.txt\"\n",
    "usr, password = read_login_credentials(login_file_path)"
   ]
  },
  {
   "cell_type": "code",
   "execution_count": null,
   "metadata": {},
   "outputs": [],
   "source": [
    "\n",
    "cv_path = '/home/ocr8n/Documents/CV_DataScientest.pdf'\n",
    "message = ''"
   ]
  },
  {
   "cell_type": "code",
   "execution_count": 12,
   "metadata": {},
   "outputs": [
    {
     "name": "stdout",
     "output_type": "stream",
     "text": [
      "Closed cookie consent banner.\n",
      "Easy Apply button found.\n",
      "User is not connected (Mon espace).\n",
      "Lien du formulaire\n",
      "Email filled\n",
      "Password filled.\n",
      "Clicked the connect button.\n",
      "Connected\n"
     ]
    },
    {
     "ename": "InvalidArgumentException",
     "evalue": "Message: invalid argument: File not found : ~/Documents/GitHub/login.txt\n  (Session info: chrome=131.0.6778.69)\nStacktrace:\n#0 0x62631d0864ca <unknown>\n#1 0x62631cb99620 <unknown>\n#2 0x62631cbe111d <unknown>\n#3 0x62631cc0c372 <unknown>\n#4 0x62631cbdc938 <unknown>\n#5 0x62631cc0c53e <unknown>\n#6 0x62631cc2ade0 <unknown>\n#7 0x62631cc0c113 <unknown>\n#8 0x62631cbdabe0 <unknown>\n#9 0x62631cbdbbbe <unknown>\n#10 0x62631d052e4b <unknown>\n#11 0x62631d056de2 <unknown>\n#12 0x62631d03fd2c <unknown>\n#13 0x62631d057957 <unknown>\n#14 0x62631d0254bf <unknown>\n#15 0x62631d075348 <unknown>\n#16 0x62631d075510 <unknown>\n#17 0x62631d085346 <unknown>\n#18 0x7c519c69ca94 <unknown>\n#19 0x7c519c729c3c <unknown>\n",
     "output_type": "error",
     "traceback": [
      "\u001b[0;31m---------------------------------------------------------------------------\u001b[0m",
      "\u001b[0;31mInvalidArgumentException\u001b[0m                  Traceback (most recent call last)",
      "Cell \u001b[0;32mIn[12], line 16\u001b[0m\n\u001b[1;32m     14\u001b[0m         \u001b[38;5;28;01mif\u001b[39;00m connexion :\n\u001b[1;32m     15\u001b[0m             \u001b[38;5;28mprint\u001b[39m(\u001b[38;5;124m'\u001b[39m\u001b[38;5;124mConnected\u001b[39m\u001b[38;5;124m'\u001b[39m)\n\u001b[0;32m---> 16\u001b[0m             \u001b[43mfill_and_submit\u001b[49m\u001b[43m(\u001b[49m\u001b[43mdriver\u001b[49m\u001b[43m,\u001b[49m\u001b[43m \u001b[49m\u001b[43mcv_path\u001b[49m\u001b[43m,\u001b[49m\u001b[43m \u001b[49m\u001b[43mmessage\u001b[49m\u001b[43m)\u001b[49m\n\u001b[1;32m     17\u001b[0m             time\u001b[38;5;241m.\u001b[39msleep(\u001b[38;5;241m10\u001b[39m)\n\u001b[1;32m     19\u001b[0m \u001b[38;5;28;01melse\u001b[39;00m:\n",
      "File \u001b[0;32m~/Documents/GitHub/AAE/Functions/sorting_functions.py:41\u001b[0m, in \u001b[0;36mfill_and_submit\u001b[0;34m(driver, cv_path, message)\u001b[0m\n\u001b[1;32m     39\u001b[0m \u001b[38;5;66;03m# Upload CV file\u001b[39;00m\n\u001b[1;32m     40\u001b[0m cv_upload \u001b[38;5;241m=\u001b[39m wait\u001b[38;5;241m.\u001b[39muntil(EC\u001b[38;5;241m.\u001b[39mpresence_of_element_located((By\u001b[38;5;241m.\u001b[39mCSS_SELECTOR, \u001b[38;5;124m\"\u001b[39m\u001b[38;5;124minput[type=\u001b[39m\u001b[38;5;124m'\u001b[39m\u001b[38;5;124mfile\u001b[39m\u001b[38;5;124m'\u001b[39m\u001b[38;5;124m]\u001b[39m\u001b[38;5;124m\"\u001b[39m)))\n\u001b[0;32m---> 41\u001b[0m \u001b[43mcv_upload\u001b[49m\u001b[38;5;241;43m.\u001b[39;49m\u001b[43msend_keys\u001b[49m\u001b[43m(\u001b[49m\u001b[43mcv_path\u001b[49m\u001b[43m)\u001b[49m\n\u001b[1;32m     43\u001b[0m \u001b[38;5;66;03m# Submit the form\u001b[39;00m\n\u001b[1;32m     44\u001b[0m \n\u001b[1;32m     45\u001b[0m \u001b[38;5;66;03m# submit_button = wait.until(\u001b[39;00m\n\u001b[1;32m     46\u001b[0m \u001b[38;5;66;03m#     EC.element_to_be_clickable((By.CSS_SELECTOR, \"button[data-testid='candidature-not-sent']\"))\u001b[39;00m\n\u001b[1;32m     47\u001b[0m \u001b[38;5;66;03m# )\u001b[39;00m\n\u001b[1;32m     48\u001b[0m \u001b[38;5;66;03m# submit_button.click()\u001b[39;00m\n\u001b[1;32m     49\u001b[0m time\u001b[38;5;241m.\u001b[39msleep(\u001b[38;5;241m4\u001b[39m) \n",
      "File \u001b[0;32m~/Documents/GitHub/AAE/.venv/lib/python3.12/site-packages/selenium/webdriver/remote/webelement.py:231\u001b[0m, in \u001b[0;36mWebElement.send_keys\u001b[0;34m(self, *value)\u001b[0m\n\u001b[1;32m    228\u001b[0m             remote_files\u001b[38;5;241m.\u001b[39mappend(\u001b[38;5;28mself\u001b[39m\u001b[38;5;241m.\u001b[39m_upload(file))\n\u001b[1;32m    229\u001b[0m         value \u001b[38;5;241m=\u001b[39m \u001b[38;5;28mtuple\u001b[39m(\u001b[38;5;124m\"\u001b[39m\u001b[38;5;130;01m\\n\u001b[39;00m\u001b[38;5;124m\"\u001b[39m\u001b[38;5;241m.\u001b[39mjoin(remote_files))\n\u001b[0;32m--> 231\u001b[0m \u001b[38;5;28;43mself\u001b[39;49m\u001b[38;5;241;43m.\u001b[39;49m\u001b[43m_execute\u001b[49m\u001b[43m(\u001b[49m\n\u001b[1;32m    232\u001b[0m \u001b[43m    \u001b[49m\u001b[43mCommand\u001b[49m\u001b[38;5;241;43m.\u001b[39;49m\u001b[43mSEND_KEYS_TO_ELEMENT\u001b[49m\u001b[43m,\u001b[49m\u001b[43m \u001b[49m\u001b[43m{\u001b[49m\u001b[38;5;124;43m\"\u001b[39;49m\u001b[38;5;124;43mtext\u001b[39;49m\u001b[38;5;124;43m\"\u001b[39;49m\u001b[43m:\u001b[49m\u001b[43m \u001b[49m\u001b[38;5;124;43m\"\u001b[39;49m\u001b[38;5;124;43m\"\u001b[39;49m\u001b[38;5;241;43m.\u001b[39;49m\u001b[43mjoin\u001b[49m\u001b[43m(\u001b[49m\u001b[43mkeys_to_typing\u001b[49m\u001b[43m(\u001b[49m\u001b[43mvalue\u001b[49m\u001b[43m)\u001b[49m\u001b[43m)\u001b[49m\u001b[43m,\u001b[49m\u001b[43m \u001b[49m\u001b[38;5;124;43m\"\u001b[39;49m\u001b[38;5;124;43mvalue\u001b[39;49m\u001b[38;5;124;43m\"\u001b[39;49m\u001b[43m:\u001b[49m\u001b[43m \u001b[49m\u001b[43mkeys_to_typing\u001b[49m\u001b[43m(\u001b[49m\u001b[43mvalue\u001b[49m\u001b[43m)\u001b[49m\u001b[43m}\u001b[49m\n\u001b[1;32m    233\u001b[0m \u001b[43m\u001b[49m\u001b[43m)\u001b[49m\n",
      "File \u001b[0;32m~/Documents/GitHub/AAE/.venv/lib/python3.12/site-packages/selenium/webdriver/remote/webelement.py:395\u001b[0m, in \u001b[0;36mWebElement._execute\u001b[0;34m(self, command, params)\u001b[0m\n\u001b[1;32m    393\u001b[0m     params \u001b[38;5;241m=\u001b[39m {}\n\u001b[1;32m    394\u001b[0m params[\u001b[38;5;124m\"\u001b[39m\u001b[38;5;124mid\u001b[39m\u001b[38;5;124m\"\u001b[39m] \u001b[38;5;241m=\u001b[39m \u001b[38;5;28mself\u001b[39m\u001b[38;5;241m.\u001b[39m_id\n\u001b[0;32m--> 395\u001b[0m \u001b[38;5;28;01mreturn\u001b[39;00m \u001b[38;5;28;43mself\u001b[39;49m\u001b[38;5;241;43m.\u001b[39;49m\u001b[43m_parent\u001b[49m\u001b[38;5;241;43m.\u001b[39;49m\u001b[43mexecute\u001b[49m\u001b[43m(\u001b[49m\u001b[43mcommand\u001b[49m\u001b[43m,\u001b[49m\u001b[43m \u001b[49m\u001b[43mparams\u001b[49m\u001b[43m)\u001b[49m\n",
      "File \u001b[0;32m~/Documents/GitHub/AAE/.venv/lib/python3.12/site-packages/selenium/webdriver/remote/webdriver.py:380\u001b[0m, in \u001b[0;36mWebDriver.execute\u001b[0;34m(self, driver_command, params)\u001b[0m\n\u001b[1;32m    378\u001b[0m response \u001b[38;5;241m=\u001b[39m \u001b[38;5;28mself\u001b[39m\u001b[38;5;241m.\u001b[39mcommand_executor\u001b[38;5;241m.\u001b[39mexecute(driver_command, params)\n\u001b[1;32m    379\u001b[0m \u001b[38;5;28;01mif\u001b[39;00m response:\n\u001b[0;32m--> 380\u001b[0m     \u001b[38;5;28;43mself\u001b[39;49m\u001b[38;5;241;43m.\u001b[39;49m\u001b[43merror_handler\u001b[49m\u001b[38;5;241;43m.\u001b[39;49m\u001b[43mcheck_response\u001b[49m\u001b[43m(\u001b[49m\u001b[43mresponse\u001b[49m\u001b[43m)\u001b[49m\n\u001b[1;32m    381\u001b[0m     response[\u001b[38;5;124m\"\u001b[39m\u001b[38;5;124mvalue\u001b[39m\u001b[38;5;124m\"\u001b[39m] \u001b[38;5;241m=\u001b[39m \u001b[38;5;28mself\u001b[39m\u001b[38;5;241m.\u001b[39m_unwrap_value(response\u001b[38;5;241m.\u001b[39mget(\u001b[38;5;124m\"\u001b[39m\u001b[38;5;124mvalue\u001b[39m\u001b[38;5;124m\"\u001b[39m, \u001b[38;5;28;01mNone\u001b[39;00m))\n\u001b[1;32m    382\u001b[0m     \u001b[38;5;28;01mreturn\u001b[39;00m response\n",
      "File \u001b[0;32m~/Documents/GitHub/AAE/.venv/lib/python3.12/site-packages/selenium/webdriver/remote/errorhandler.py:229\u001b[0m, in \u001b[0;36mErrorHandler.check_response\u001b[0;34m(self, response)\u001b[0m\n\u001b[1;32m    227\u001b[0m         alert_text \u001b[38;5;241m=\u001b[39m value[\u001b[38;5;124m\"\u001b[39m\u001b[38;5;124malert\u001b[39m\u001b[38;5;124m\"\u001b[39m]\u001b[38;5;241m.\u001b[39mget(\u001b[38;5;124m\"\u001b[39m\u001b[38;5;124mtext\u001b[39m\u001b[38;5;124m\"\u001b[39m)\n\u001b[1;32m    228\u001b[0m     \u001b[38;5;28;01mraise\u001b[39;00m exception_class(message, screen, stacktrace, alert_text)  \u001b[38;5;66;03m# type: ignore[call-arg]  # mypy is not smart enough here\u001b[39;00m\n\u001b[0;32m--> 229\u001b[0m \u001b[38;5;28;01mraise\u001b[39;00m exception_class(message, screen, stacktrace)\n",
      "\u001b[0;31mInvalidArgumentException\u001b[0m: Message: invalid argument: File not found : ~/Documents/GitHub/login.txt\n  (Session info: chrome=131.0.6778.69)\nStacktrace:\n#0 0x62631d0864ca <unknown>\n#1 0x62631cb99620 <unknown>\n#2 0x62631cbe111d <unknown>\n#3 0x62631cc0c372 <unknown>\n#4 0x62631cbdc938 <unknown>\n#5 0x62631cc0c53e <unknown>\n#6 0x62631cc2ade0 <unknown>\n#7 0x62631cc0c113 <unknown>\n#8 0x62631cbdabe0 <unknown>\n#9 0x62631cbdbbbe <unknown>\n#10 0x62631d052e4b <unknown>\n#11 0x62631d056de2 <unknown>\n#12 0x62631d03fd2c <unknown>\n#13 0x62631d057957 <unknown>\n#14 0x62631d0254bf <unknown>\n#15 0x62631d075348 <unknown>\n#16 0x62631d075510 <unknown>\n#17 0x62631d085346 <unknown>\n#18 0x7c519c69ca94 <unknown>\n#19 0x7c519c729c3c <unknown>\n"
     ]
    }
   ],
   "source": [
    "driver = check_easy_apply(test_url)\n",
    "\n",
    "if driver:\n",
    "    formulaire = promotion_or_formulaire(driver)\n",
    "\n",
    "    if not formulaire:\n",
    "        if connected(driver) :\n",
    "            postuler(driver)\n",
    "            fill_and_submit(driver, cv_path, message)\n",
    "            time.sleep(10)\n",
    "        else :\n",
    "            print('Lien du formulaire')\n",
    "            connexion = apec_connect(driver,usr, password)\n",
    "            if connexion :\n",
    "                print('Connected')\n",
    "                fill_and_submit(driver, cv_path, message)\n",
    "                time.sleep(10)\n",
    "            \n",
    "    else:\n",
    "        fill_and_submit(driver, cv_path, message)\n",
    "\n",
    "\n",
    "\n",
    "driver.quit()"
   ]
  },
  {
   "cell_type": "code",
   "execution_count": null,
   "metadata": {},
   "outputs": [],
   "source": []
  }
 ],
 "metadata": {
  "kernelspec": {
   "display_name": ".venv",
   "language": "python",
   "name": "python3"
  },
  "language_info": {
   "codemirror_mode": {
    "name": "ipython",
    "version": 3
   },
   "file_extension": ".py",
   "mimetype": "text/x-python",
   "name": "python",
   "nbconvert_exporter": "python",
   "pygments_lexer": "ipython3",
   "version": "3.12.3"
  }
 },
 "nbformat": 4,
 "nbformat_minor": 2
}
